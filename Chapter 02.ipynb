{
 "cells": [
  {
   "cell_type": "code",
   "execution_count": null,
   "metadata": {},
   "outputs": [],
   "source": [
    "import autograd.numpy as np\n",
    "import graphviz\n",
    "import matplotlib.pyplot as plt"
   ]
  },
  {
   "cell_type": "code",
   "execution_count": null,
   "metadata": {},
   "outputs": [],
   "source": [
    "params = {'legend.fontsize': 'x-large',\n",
    "          'axes.labelsize': 'xx-large',\n",
    "          'axes.titlesize': 'xx-large',\n",
    "          'xtick.labelsize': 'x-large',\n",
    "          'ytick.labelsize': 'x-large',\n",
    "          'axes.facecolor': 'xkcd:almost black'}\n",
    "plt.rcParams.update(params)"
   ]
  },
  {
   "cell_type": "markdown",
   "metadata": {},
   "source": [
    "# Chapter 2: Small Worlds and Large Worlds"
   ]
  },
  {
   "cell_type": "markdown",
   "metadata": {},
   "source": [
    "## 2.6 - Practice"
   ]
  },
  {
   "cell_type": "markdown",
   "metadata": {},
   "source": [
    "### Easy"
   ]
  },
  {
   "cell_type": "markdown",
   "metadata": {},
   "source": [
    "#### 2E1\n",
    "<b>Which of the expressions below correspond to the statement: _the probability of rain on Monday_?\n",
    "1. Pr(rain)\n",
    "2. Pr(rain|Monday)\n",
    "3. Pr(Monday|rain)\n",
    "4. Pr(rain, Monday)/ Pr(Monday)\n",
    "</b>\n",
    "\n",
    "The phrase \"probability of rain on Monday\" feels ambiguous to me.\n",
    "It feels like it's referring to a _particular_ Monday,\n",
    "rather than on \"Mondays in general\".\n",
    "\n",
    "But this seems to be getting after conditioning, and so we have `(2)`, Pr(rain|Monday), and `(4)`, which evaluates to (2)."
   ]
  },
  {
   "cell_type": "markdown",
   "metadata": {},
   "source": [
    "#### 2E2\n",
    "<b>Which of the following statements corresponds to the expression Pr(Monday|rain)?\n",
    "1. The probability of rain on Monday.\n",
    "2. The probability of rain, given that it is Monday.\n",
    "3. The probability that it is Monday, given that it is raining.\n",
    "4. The probability that it is Monday and that it is raining.\n",
    "</b>\n",
    "\n",
    "`(3)`"
   ]
  },
  {
   "cell_type": "markdown",
   "metadata": {},
   "source": [
    "#### 2E3\n",
    "\n",
    "<b>Which of the expressions below correspond to the statement: _the probability that it is Monday, given that it is raining_?\n",
    "1. Pr(Monday|rain)\n",
    "2. Pr(rain|Monday)\n",
    "3. Pr(rain|Monday) Pr(Monday)\n",
    "4. Pr(rain|Monday) Pr(Monday)/ Pr(rain)\n",
    "5. Pr(Monday|rain) Pr(rain)/ Pr(Monday)\n",
    "</b>"
   ]
  },
  {
   "cell_type": "markdown",
   "metadata": {},
   "source": [
    "`(1)`, which is the direct translation, and `(4)`, which is equivalent via Bayes' Rule."
   ]
  },
  {
   "cell_type": "markdown",
   "metadata": {},
   "source": [
    "#### 2E4\n",
    "<b> The Bayesian statistician Bruno de Finetti (1906–1985) began his 1973 book on probability theory with the declaration:\n",
    "    \n",
    "    “PROBABILITY DOES NOT EXIST.”\n",
    "    \n",
    "The capitals appeared in the original, so I imagine de Finetti wanted us to shout this statement. What he meant is that probability is a device for describing uncertainty from the perspective of an observer with limited knowledge; it has no objective reality. Discuss the globe tossing example from the chapter, in light of this statement. What does it mean to say “the probability of water is 0.7”?</b>"
   ]
  },
  {
   "cell_type": "markdown",
   "metadata": {},
   "source": [
    "From the perspective of a human being throwing a globe with no special talent or apparatus, the outcome of \"water\" either a) occurs with frequency 0.7, in the long run, or b) should be assigned the numerical plausibility 0.7 in order to develop a system of reasoning commensurate with classical logical but large enough to handle uncertainity."
   ]
  },
  {
   "cell_type": "markdown",
   "metadata": {},
   "source": [
    "### Medium"
   ]
  },
  {
   "cell_type": "markdown",
   "metadata": {},
   "source": [
    "#### 2M1\n",
    "<b>Recall the globe tossing model from the chapter. Compute and plot the grid approximate posterior distribution for each of the following sets of observations. In each case, assume a uniform prior for p.</b>"
   ]
  },
  {
   "cell_type": "code",
   "execution_count": null,
   "metadata": {},
   "outputs": [],
   "source": [
    "import scipy.stats\n",
    "\n",
    "from golems.grid import GridGolem as GridGolem\n",
    "\n",
    "class GlobeGolem(GridGolem):\n",
    "\n",
    "    def __init__(self, grid_spacing=0.01):\n",
    "        super().__init__(grid_spacing=grid_spacing)\n",
    "\n",
    "    @staticmethod\n",
    "    def likelihood(observations, ps):\n",
    "        ps = np.atleast_1d(ps)\n",
    "\n",
    "        N = len(observations)\n",
    "        k = sum(observations)\n",
    "\n",
    "        return np.array([scipy.stats.binom.pmf(k, N, p) for p in ps])\n",
    "\n",
    "    @staticmethod\n",
    "    def prior(ps):\n",
    "        ps = np.atleast_1d(ps)\n",
    "        return np.logical_and(0 < ps, ps < 1)"
   ]
  },
  {
   "cell_type": "markdown",
   "metadata": {},
   "source": [
    "`(1)`"
   ]
  },
  {
   "cell_type": "code",
   "execution_count": null,
   "metadata": {},
   "outputs": [],
   "source": [
    "gg_2m1 = GlobeGolem(5e-4)\n",
    "\n",
    "obs1 = [1., 1., 1.]\n",
    "obs2 = [1., 1., 1., 0.]\n",
    "obs3 = [0., 1., 1., 0., 1., 1., 1.]"
   ]
  },
  {
   "cell_type": "code",
   "execution_count": null,
   "metadata": {},
   "outputs": [],
   "source": [
    "gg_2m1.update(obs1)\n",
    "gg_2m1"
   ]
  },
  {
   "cell_type": "markdown",
   "metadata": {},
   "source": [
    "`(2)`"
   ]
  },
  {
   "cell_type": "code",
   "execution_count": null,
   "metadata": {},
   "outputs": [],
   "source": [
    "gg_2m1.update(obs2)\n",
    "gg_2m1"
   ]
  },
  {
   "cell_type": "markdown",
   "metadata": {},
   "source": [
    "`(3)`"
   ]
  },
  {
   "cell_type": "code",
   "execution_count": null,
   "metadata": {},
   "outputs": [],
   "source": [
    "gg_2m1.update(obs3)\n",
    "gg_2m1"
   ]
  },
  {
   "cell_type": "markdown",
   "metadata": {},
   "source": [
    "#### 2M2\n",
    "<b>Now assume a prior for p that is equal to zero when $p < 0.5$ and is a positive constant when $p \\geq 0.5$. Again compute and plot the grid approximate posterior distribution for each of the sets of observations in the problem just above.</b>"
   ]
  },
  {
   "cell_type": "code",
   "execution_count": null,
   "metadata": {},
   "outputs": [],
   "source": [
    "gg_2m2 = GlobeGolem()\n",
    "gg_2m2.prior = lambda ps: 2. * np.logical_and(0.5 <= ps, ps < 1)\n",
    "\n",
    "gg_2m2.update(obs1)\n",
    "gg_2m2"
   ]
  },
  {
   "cell_type": "code",
   "execution_count": null,
   "metadata": {},
   "outputs": [],
   "source": [
    "gg_2m2.update(obs2)\n",
    "gg_2m2"
   ]
  },
  {
   "cell_type": "code",
   "execution_count": null,
   "metadata": {},
   "outputs": [],
   "source": [
    "gg_2m2.update(obs3)\n",
    "gg_2m2"
   ]
  },
  {
   "cell_type": "markdown",
   "metadata": {},
   "source": [
    "#### 2M3\n",
    "<b>Suppose there are two globes, one for Earth and one for Mars. The Earth globe is 70% covered in water. The Mars globe is 100% land. Further suppose that one of these globes—you don’t know which—was tossed in the air and produced a “land” observation. Assume that each globe was equally likely to be tossed. Show that the posterior probability that the globe was the Earth, conditional on seeing “land” (Pr(Earth|land)), is 0.23.</b>"
   ]
  },
  {
   "cell_type": "markdown",
   "metadata": {},
   "source": [
    "$$\n",
    "\\begin{align}\n",
    "    \\mathcal{P}(E \\vert L)\n",
    "    &= {\\mathcal{P}(L \\vert E) \\cdot \\mathcal{P}(E) \\over \\mathcal{P}(L)}\n",
    "    &= {\\mathcal{P}(L \\vert E) \\cdot \\mathcal{P}(E) \\over \\sum_{x \\in \\left\\{E, M\\right\\}} \\mathcal{P}(L \\vert x) \\mathcal{P}(x)}\n",
    "    &= {0.3 \\cdot 0.5 \\over 0.3 \\cdot 0.5 + 1 \\cdot 0.5} = {0.15 \\over 0.65}\n",
    "\\end{align}\n",
    "$$"
   ]
  },
  {
   "cell_type": "code",
   "execution_count": null,
   "metadata": {},
   "outputs": [],
   "source": [
    "0.15 / 0.65"
   ]
  },
  {
   "cell_type": "markdown",
   "metadata": {},
   "source": [
    "#### 2M4\n",
    "<b>Suppose you have a deck with only three cards. Each card has two sides, and each side is either black or white. One card has two black sides. The second card has one black and one white side. The third card has two white sides. Now suppose all three cards are placed in a bag and shuffled. Someone reaches into the bag and pulls out a card and places it flat on a table. A black side is shown facing up, but you don’t know the color of the side facing down. Show that the probability that the other side is also black is 2/3. Use the counting method (Section 2 of the chapter) to approach this problem. This means counting up the ways that each card could produce the observed data (a black side facing up on the table).</b>"
   ]
  },
  {
   "cell_type": "markdown",
   "metadata": {},
   "source": [
    "There are three paths at the start: we select either the double-black, the black-white, or the double-white card.\n",
    "\n",
    "If the double-white card is selected, the observed data is impossible, and so that path is eliminated.\n",
    "\n",
    "If we selected the double-black card, there are two paths to the observed data:\n",
    "either of the two faces could have been placed up.\n",
    "**2 paths**, both of which have black as the other side.\n",
    "\n",
    "If we selected the black-white card, there is only one path to the observed data:\n",
    "the single black side is up. **1 path**, and it does not have black on the other side.\n",
    "\n",
    "Therefore, **2 out of 3 paths** have black on the reverse side,\n",
    "and so $\\mathcal{P}(\\text{reverse-black}\\vert\\text{visible-black}) = 0.67$."
   ]
  },
  {
   "cell_type": "markdown",
   "metadata": {},
   "source": [
    "#### 2M5\n",
    "<b>Now suppose there are four cards: B/B, B/W, W/W, and another B/B. Again suppose a card is drawn from the bag and a black side appears face up. Again calculate the probability that the other side is black.</b>"
   ]
  },
  {
   "cell_type": "markdown",
   "metadata": {},
   "source": [
    "There are now 2 paths each with 2 paths to produce the observed data and result in the reverse side being black, and there is still only 1 path that produces the observed data with a white reverse,\n",
    "and so we have that $\\mathcal{P}(\\text{reverse-black}\\vert\\text{visible-black}) = 0.8$.\n",
    "\n",
    "This value grows like ${2n \\over 2n + 1}$:"
   ]
  },
  {
   "cell_type": "code",
   "execution_count": null,
   "metadata": {},
   "outputs": [],
   "source": [
    "ks = np.arange(0, 20)\n",
    "plt.plot(ks, 2 * ks / (2 * ks + 1), lw=4, c=\"xkcd:neon blue\",\n",
    "         marker=\"o\", markerfacecolor=\"k\", markeredgewidth=4, markersize=10);"
   ]
  },
  {
   "cell_type": "markdown",
   "metadata": {},
   "source": [
    "The negative logarithm isn't simpler."
   ]
  },
  {
   "cell_type": "code",
   "execution_count": null,
   "metadata": {},
   "outputs": [],
   "source": [
    "ks = np.arange(0, 20)\n",
    "plt.plot(ks, -np.log2(2 * ks / (2 * ks + 1)), lw=4, c=\"xkcd:neon blue\",\n",
    "         marker=\"o\", markerfacecolor=\"k\", markeredgewidth=4, markersize=10);"
   ]
  },
  {
   "cell_type": "markdown",
   "metadata": {},
   "source": [
    "#### 2M6\n",
    "<b>Imagine that black ink is heavy, and so cards with black sides are heavier than cards with white sides. As a result, it’s less likely that a card with black sides is pulled from the bag. So again assume there are three cards: B/B, B/W, and W/W. After experimenting a number of times, you conclude that for every way to pull the B/B card from the bag, there are 2 ways to pull the B/W card and 3 ways to pull the W/W card. Again suppose that a card is pulled and a black side appears face up. Show that the probability the other side is black is now 0.5. Use the counting method, as before.</b>"
   ]
  },
  {
   "cell_type": "markdown",
   "metadata": {},
   "source": [
    "The number of ways to pull the double-white card is immaterial;\n",
    "it is incommensurate with the observed data and so can be ignored.\n",
    "(However, it does change the actual value of $\\mathcal{P}(\\text{reverse-black})$).\n",
    "\n",
    "There are two ways to pull the black-white card \"for each\" way to pull the double-black card.\n",
    "Here, we're extending the method of counting to work with proportions, rather than counts.\n",
    "Interesting.\n",
    "\n",
    "That means there are now two paths that produce the observation with white on the reverse side,\n",
    "along with two paths that produce the observation with black on the reverse side.\n",
    "\n",
    "So two out of four paths that are compatible with the data\n",
    "are also compatible with the statement\n",
    "\"the reverse side is black\"\n",
    "and so we have that\n",
    "$\\mathcal{P}(\\text{reverse-black}\\vert\\text{visible-black}) = 0.5$."
   ]
  },
  {
   "cell_type": "markdown",
   "metadata": {},
   "source": [
    "#### 2M7\n",
    "<b>Assume again the original card problem, with a single card showing a black side face up. Before looking at the other side, we draw another card from the bag and lay it face up on the table. The face that is shown on the new card is white. Show that the probability that the first card, the one showing a black side, has black on its other side is now 0.75. Use the counting method, if you can. _Hint: Treat this like the sequence of globe tosses, counting all the ways to see each observation, for each possible first card._</b>"
   ]
  },
  {
   "cell_type": "code",
   "execution_count": null,
   "metadata": {},
   "outputs": [],
   "source": [
    "paths_2m7 = graphviz.Digraph(name=\"2m7\",\n",
    "                             node_attr={\"fillcolor\": \"#04d9ff\",\n",
    "                                        \"penwidth\": \"2.5\"},\n",
    "                             edge_attr={\"penwidth\": \"2.5\"})\n",
    "\n",
    "double_black = \"⬛/⬛\"\n",
    "double_white = \"⬜/⬜\"\n",
    "black_white = \"⬛/⬜\""
   ]
  },
  {
   "cell_type": "code",
   "execution_count": null,
   "metadata": {},
   "outputs": [],
   "source": [
    "paths_2m7.node(\"start\", \"🤔\", style=\"filled\", shape=\"doublecircle\")\n",
    "\n",
    "paths_2m7.node(\"bb\", double_black, style=\"filled\")\n",
    "paths_2m7.node(\"bw\", black_white, style=\"filled\")\n",
    "paths_2m7.node(\"ww\", double_white)\n",
    "\n",
    "# paths_2m7.node(\"start\", \"Τ\", style=\"filled\")\n",
    "[paths_2m7.edge(\"start\", node, label=str(label))\n",
    " for node, label in zip([\"bb\", \"bw\", \"ww\"], [2, 1, 0])]\n",
    "\n",
    "paths_2m7.node(\"bb_bw\", black_white, style=\"filled\")\n",
    "paths_2m7.node(\"bb_ww\", double_white, style=\"filled\")\n",
    "[paths_2m7.edge(\"bb\", node, label=str(label))\n",
    " for node, label in zip([\"bb_bw\", \"bb_ww\", \"ww\"], [1, 2])]\n",
    "\n",
    "paths_2m7.node(\"bw_bb\", double_black)\n",
    "paths_2m7.node(\"bw_ww\", double_white, style=\"filled\")\n",
    "[paths_2m7.edge(\"bw\", node, label=str(label))\n",
    " for node, label in zip([\"bw_bb\", \"bw_ww\"], [0, 2])]\n",
    "\n",
    "\n",
    "paths_2m7"
   ]
  },
  {
   "cell_type": "markdown",
   "metadata": {},
   "source": [
    "### Hard"
   ]
  },
  {
   "cell_type": "markdown",
   "metadata": {},
   "source": [
    "#### 2H1\n",
    "<b> Suppose there are two species of panda bear. Both are equally common in the wild and live in the same places. They look exactly alike and eat the same food, and there is yet no genetic assay capable of telling them apart. They differ however in their family sizes. Species A gives birth to twins 10% of the time, otherwise birthing a single infant. Species B births twins 20% of the time, otherwise birthing singleton infants. Assume these numbers are known with certainty, from many years of field research.\n",
    "\n",
    "Now suppose you are managing a captive panda breeding program. You have a new female panda of unknown species, and she has just given birth to twins. What is the probability that her next birth will also be twins? </b>"
   ]
  },
  {
   "cell_type": "markdown",
   "metadata": {},
   "source": [
    "Given the information that we have,\n",
    "the best way to break down the probability of twins on the next birth\n",
    "is by combining the joint probabilities of twin-birth and species for each species:"
   ]
  },
  {
   "cell_type": "markdown",
   "metadata": {},
   "source": [
    "$$\n",
    "\\mathcal{P}(🐼🐼 \\text{ on next birth}) =\\mathcal{P}(🐼🐼 \\text{ on next birth}, A \\vert 🐼🐼) + \\mathcal{P}(🐼🐼 \\text{ on next birth}, B\\vert 🐼🐼) \n",
    "$$"
   ]
  },
  {
   "cell_type": "markdown",
   "metadata": {},
   "source": [
    "We can move the species out of the joint and into the conditioning:"
   ]
  },
  {
   "cell_type": "markdown",
   "metadata": {},
   "source": [
    "$$\n",
    "\\mathcal{P}(🐼🐼 \\text{ on next birth}) = \\mathcal{P}(🐼🐼 \\text{ on next birth}\\vert A, 🐼🐼)\\mathcal{P}(A\\vert 🐼🐼) + \\mathcal{P}(🐼🐼 \\text{ on next birth}\\vert B, 🐼🐼)\\mathcal{P}(B\\vert 🐼🐼)\n",
    "$$"
   ]
  },
  {
   "cell_type": "markdown",
   "metadata": {},
   "source": [
    "and based on the problem, we can assume that the birth probabilities are independent and identically distributed:"
   ]
  },
  {
   "cell_type": "markdown",
   "metadata": {},
   "source": [
    "$$\n",
    "\\mathcal{P}(🐼🐼 \\text{ on next birth}) = \\mathcal{P}(🐼🐼 \\text{ on next birth}\\vert A)\\mathcal{P}(A\\vert 🐼🐼) + \\mathcal{P}(🐼🐼 \\text{ on next birth}\\vert B)\\mathcal{P}(B\\vert 🐼🐼)\n",
    "$$"
   ]
  },
  {
   "cell_type": "markdown",
   "metadata": {},
   "source": [
    "and this \"likelihood\" term is what we have data for, which we swap in:"
   ]
  },
  {
   "cell_type": "markdown",
   "metadata": {},
   "source": [
    "$$\n",
    "\\mathcal{P}(🐼🐼 \\text{ on next birth}) = 0.1 \\cdot \\mathcal{P}(A\\vert 🐼🐼) + 0.2 \\cdot \\mathcal{P}(B\\vert 🐼🐼)\n",
    "$$"
   ]
  },
  {
   "cell_type": "markdown",
   "metadata": {},
   "source": [
    "and so we must now incorporate our posterior about which species the panda is, given the first twin birth."
   ]
  },
  {
   "cell_type": "markdown",
   "metadata": {},
   "source": [
    "We should apply Bayes' rule here:"
   ]
  },
  {
   "cell_type": "markdown",
   "metadata": {},
   "source": [
    "$$\n",
    "\\mathcal{P}(A \\vert 🐼🐼 ) = {\\mathcal{P}(🐼🐼  \\vert A)\\mathcal{P}(A) \\over \\mathcal{P}(🐼🐼 \\vert A)\\mathcal{P}(A) + \\mathcal{P}(🐼🐼 \\vert B)\\mathcal{P}(B)}\n",
    "$$"
   ]
  },
  {
   "cell_type": "markdown",
   "metadata": {},
   "source": [
    "If we incorporate our flat prior,\n",
    "those terms cancel out on top and bottom, leaving us with:"
   ]
  },
  {
   "cell_type": "markdown",
   "metadata": {},
   "source": [
    "$$\n",
    "\\mathcal{P}(A \\vert 🐼🐼) = {\\mathcal{P}(🐼🐼 \\vert A) \\over \\mathcal{P}(🐼🐼\\vert A) + \\mathcal{P}(🐼🐼 \\vert B)}\n",
    "$$"
   ]
  },
  {
   "cell_type": "markdown",
   "metadata": {},
   "source": [
    "which are all values we know:"
   ]
  },
  {
   "cell_type": "markdown",
   "metadata": {},
   "source": [
    "$$\n",
    "\\mathcal{P}(A \\vert 🐼🐼) = {0.1 \\over 0.1 + 0.2} = {1 \\over 3}\n",
    "$$"
   ]
  },
  {
   "cell_type": "markdown",
   "metadata": {},
   "source": [
    "and symmetrically in $B$:"
   ]
  },
  {
   "cell_type": "markdown",
   "metadata": {},
   "source": [
    "$$\n",
    "\\begin{align}\n",
    "\\mathcal{P}(B \\vert 🐼🐼) &= {\\mathcal{P}(🐼🐼 \\vert B) \\over \\mathcal{P}(🐼🐼 \\vert A) + \\mathcal{P}(🐼🐼\\vert B)}\\\\\n",
    "&= \\frac{0.2}{0.2 + 0.1} = {2 \\over 3}\n",
    "\\end{align}\n",
    "$$"
   ]
  },
  {
   "cell_type": "markdown",
   "metadata": {},
   "source": [
    "We can insert these values into the orignal formula:"
   ]
  },
  {
   "cell_type": "markdown",
   "metadata": {},
   "source": [
    "$$\n",
    "\\mathcal{P}(🐼🐼 \\text{ on next birth}) = 0.1 \\cdot \\mathcal{P}(A) + 0.2 \\cdot \\mathcal{P}(B) = 0.1 \\cdot 1/3 + 0.2 \\cdot 2/3 = 1/6\n",
    "$$"
   ]
  },
  {
   "cell_type": "markdown",
   "metadata": {},
   "source": [
    "Note that the value is\n",
    "1. in between 10% and 20%,\n",
    "2. shifted from the prior probability of 15%,\n",
    "3. and shifted closer to 20%"
   ]
  },
  {
   "cell_type": "markdown",
   "metadata": {},
   "source": [
    "#### 2H2\n",
    "<b>Recall all the facts from the problem above. Now compute the probability that the panda we have is from species A, assuming we have observed only the first birth and that it was twins.</b>\n",
    "\n",
    "This was covered above: it's 1/3."
   ]
  },
  {
   "cell_type": "markdown",
   "metadata": {},
   "source": [
    "#### 2H3\n",
    "\n",
    "<b>Continuing on from the previous problem, suppose the same panda mother has a second birth and that it is not twins, but a singleton infant. Compute the posterior probability that this panda is species A.</b>"
   ]
  },
  {
   "cell_type": "markdown",
   "metadata": {},
   "source": [
    "$$\n",
    "\\begin{align}\n",
    "    \\mathcal{P}(A \\vert 🐼🐼\\ \\&\\ 🐼)\n",
    "    &= {\\mathcal{P}(🐼🐼\\ \\&\\ 🐼\\vert A) \\mathcal{P}(A) \\over P(🐼🐼\\ \\&\\ 🐼)}\\\\\n",
    "    &= {0.1 \\cdot 0.9 \\cdot 0.5 \\over 0.1 \\cdot 0.9 \\cdot 0.5 + 0.2 \\cdot 0.8 \\cdot 0.5} \\\\\n",
    "    &= {0.09 \\over 0.09 + 0.16}\\\\\n",
    "    &= {9 \\over 25}\n",
    "\\end{align}\n",
    "$$"
   ]
  },
  {
   "cell_type": "markdown",
   "metadata": {},
   "source": [
    "#### 2H4\n",
    "\n",
    "<b> A common boast of Bayesian statisticians is that Bayesian inference makes it easy to use all of the data, even if the data are of different types.\n",
    "\n",
    "So suppose now that a veterinarian comes along who has a new genetic test that she claims can identify the species of our mother panda. But the test, like all tests, is imperfect. This is the information you have about the test:\n",
    "    \n",
    "   - The probability it correctly identifies a species A panda is 0.8.\n",
    "   - The probability it correctly identifies a species B panda is 0.65.\n",
    "    \n",
    "The vet administers the test to your panda and tells you that the test is positive for species A. First ignore your previous information from the births and compute the posterior probability that your panda is species A. Then redo your calculation, now using the birth data as well. </b>"
   ]
  },
  {
   "cell_type": "markdown",
   "metadata": {},
   "source": [
    "First, we do what we normally do: condition with Bayes' rule:"
   ]
  },
  {
   "attachments": {},
   "cell_type": "markdown",
   "metadata": {},
   "source": [
    "$$\n",
    "\\begin{align}\n",
    "    \\mathcal{P}(A\\vert 🅰)\n",
    "    &= {\\mathcal{P}(🅰\\vert A)\\mathcal{P}(A) \\over \\mathcal{P}(🅰)}\\\\\n",
    "    &= {0.8 \\cdot \\mathcal{P}(🅰) \\over \\mathcal{P}(🅰\\vert A)\\mathcal{P}(A) +  \\mathcal{P}(🅰\\vert B)\\mathcal{P}(B)}\\\\\n",
    "    &= {0.8 \\over 0.8 + 0.2}\\\\\n",
    "    &= {4 \\over 5}\n",
    "\\end{align}\n",
    "$$"
   ]
  },
  {
   "cell_type": "markdown",
   "metadata": {},
   "source": [
    "Then, we effectively treat this posterior as our \"new prior\",\n",
    "with $\\mathcal{P}(A\\vert 🅰)$ appearing where we once had $\\mathcal{P}(A)$:"
   ]
  },
  {
   "cell_type": "markdown",
   "metadata": {},
   "source": [
    "$$\n",
    "\\begin{align}\n",
    "    \\mathcal{P}(A \\vert 🐼🐼\\ \\&\\ 🐼\\ \\&\\ 🅰)\n",
    "    &= {\\mathcal{P}(🐼🐼\\ \\&\\ 🐼\\vert A, 🅰) \\mathcal{P}(A\\vert 🅰) \\over P(🐼🐼\\ \\&\\ 🐼\\vert 🅰)}\\\\\n",
    "    &= {\\mathcal{P}(🐼🐼\\ \\&\\ 🐼\\vert A, 🅰) \\mathcal{P}(A\\vert 🅰)\n",
    "        \\over P(🐼🐼\\ \\&\\ 🐼\\vert A, 🅰) + P(🐼🐼\\ \\&\\ 🐼\\vert B, 🅰)}\\\\\n",
    "    &= {0.1 \\cdot 0.9 \\cdot 0.8 \\over 0.1 \\cdot 0.9 \\cdot 0.8 + 0.2 \\cdot 0.8 \\cdot 0.2} \\\\\n",
    "    &= {0.072 \\over 0.072 + 0.032}\\\\\n",
    "    &= {0.072 \\over 0.104} \\approx 0.7\n",
    "\\end{align}\n",
    "$$"
   ]
  },
  {
   "cell_type": "markdown",
   "metadata": {},
   "source": [
    "Actually, it's more descriptive to say that a 🅰 appears in _all of our conditionals_."
   ]
  },
  {
   "cell_type": "markdown",
   "metadata": {},
   "source": [
    "That is, we now \"want to know\" (LHS) probabilities based on the test outcome,\n",
    "and so we have, in our \"things we do know\" column, probabilities that are also based on test outcome.\n",
    "\n",
    "In the end, this is broken down into things we are given, by means of the original Bayes calculation."
   ]
  },
  {
   "cell_type": "markdown",
   "metadata": {},
   "source": [
    "Note that we assume that the test results have no influence on the pandas' birthing behavior:\n",
    "$$\n",
    "P(🐼🐼\\ \\&\\ 🐼\\vert x, 🅰) = P(🐼🐼\\ \\&\\ 🐼\\vert x)\n",
    "$$\n",
    "where $x \\in \\{A, B\\}$."
   ]
  },
  {
   "cell_type": "markdown",
   "metadata": {},
   "source": [
    "## Experiments: Sorted vs Unsorted"
   ]
  },
  {
   "cell_type": "code",
   "execution_count": null,
   "metadata": {},
   "outputs": [],
   "source": [
    "gg = GlobeGolem(1e-3)\n",
    "\n",
    "full_observations = np.array(\n",
    "    np.random.standard_normal(size=30) > 0, dtype=np.float)"
   ]
  },
  {
   "cell_type": "code",
   "execution_count": null,
   "metadata": {},
   "outputs": [],
   "source": [
    "def plot_sequence(gg, all_observations, ax=None):\n",
    "    if ax is None:\n",
    "        _, ax = plt.subplots()\n",
    "        \n",
    "    ax.plot(gg.grid, gg(gg.grid))\n",
    "\n",
    "    N, observations = len(all_observations), []\n",
    "    for ii, observation in enumerate(all_observations):\n",
    "        observations.append(observation)\n",
    "        gg.update(observations)\n",
    "\n",
    "        next_posterior = gg(gg.grid)\n",
    "        ax.plot(gg.grid, next_posterior, color=[np.power(ii / N, 1.5)] * 2 + [1])"
   ]
  },
  {
   "cell_type": "code",
   "execution_count": null,
   "metadata": {},
   "outputs": [],
   "source": [
    "sorted_observations = np.array(sorted(full_observations))\n",
    "\n",
    "fig, (iid_ax, sort_ax) = plt.subplots(ncols=2, sharex=True, sharey=True,\n",
    "                                      figsize=(12, 6))\n",
    "\n",
    "plot_sequence(gg, full_observations, iid_ax)\n",
    "plot_sequence(gg, sorted_observations, sort_ax)"
   ]
  }
 ],
 "metadata": {
  "kernelspec": {
   "display_name": "Python 3",
   "language": "python",
   "name": "python3"
  },
  "language_info": {
   "codemirror_mode": {
    "name": "ipython",
    "version": 3
   },
   "file_extension": ".py",
   "mimetype": "text/x-python",
   "name": "python",
   "nbconvert_exporter": "python",
   "pygments_lexer": "ipython3",
   "version": "3.7.3"
  }
 },
 "nbformat": 4,
 "nbformat_minor": 4
}
